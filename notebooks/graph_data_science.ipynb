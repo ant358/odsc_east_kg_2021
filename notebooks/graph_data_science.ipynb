{
 "cells": [
  {
   "cell_type": "code",
   "execution_count": 1,
   "id": "closing-soldier",
   "metadata": {},
   "outputs": [],
   "source": [
    "%matplotlib inline\n",
    "\n",
    "import json\n",
    "import re\n",
    "import urllib\n",
    "from pprint import pprint\n",
    "import time\n",
    "from tqdm import tqdm\n",
    "\n",
    "from py2neo import Node, Graph, Relationship, NodeMatcher\n",
    "from py2neo.bulk import merge_nodes\n",
    "\n",
    "import numpy as np\n",
    "import pandas as pd\n",
    "\n",
    "from sklearn.metrics import accuracy_score\n",
    "from sklearn.model_selection import train_test_split\n",
    "from sklearn import svm\n",
    "from sklearn.metrics import plot_confusion_matrix\n",
    "\n",
    "import matplotlib.pyplot as plt\n",
    "from mpl_toolkits.mplot3d import Axes3D\n",
    "import seaborn as sns"
   ]
  },
  {
   "cell_type": "code",
   "execution_count": 3,
   "id": "boxed-wheat",
   "metadata": {},
   "outputs": [],
   "source": [
    "graph = Graph(\"bolt://neo4j:7687\", name=\"neo4j\", password=\"1234\")\n",
    "nodes_matcher = NodeMatcher(graph)"
   ]
  },
  {
   "cell_type": "markdown",
   "id": "opponent-italy",
   "metadata": {},
   "source": [
    "# Let's try some more entity disambiguation\n",
    "\n",
    "Recall in the previous notebook that we looked at the cosine similarity of word vectors.  Instead, now let's look at the overlap of the relationships between our starting node, 'oh bah mə', and  'barack hussein obama ii'.  We might expect if there was strong similarity that we would see a lot of relationship overlap.  "
   ]
  },
  {
   "cell_type": "code",
   "execution_count": 145,
   "id": "assumed-suspect",
   "metadata": {},
   "outputs": [
    {
     "name": "stdout",
     "output_type": "stream",
     "text": [
      "Total number of connected nodes:  0\n"
     ]
    },
    {
     "data": {
      "text/plain": [
       "[]"
      ]
     },
     "execution_count": 145,
     "metadata": {},
     "output_type": "execute_result"
    }
   ],
   "source": [
    "bho_ls = []\n",
    "bho = graph.run('MATCH (n:Node {name: \"barack hussein obama ii\"})--(m) RETURN DISTINCT m.name')\n",
    "for record in bho:\n",
    "    bho_ls.append(record[0])\n",
    "print('Total number of connected nodes: ', len(bho_ls))\n",
    "bho_ls"
   ]
  },
  {
   "cell_type": "code",
   "execution_count": 146,
   "id": "floral-matter",
   "metadata": {
    "collapsed": true,
    "jupyter": {
     "outputs_hidden": true
    }
   },
   "outputs": [
    {
     "data": {
      "text/plain": [
       "['american politician',\n",
       " '44th president',\n",
       " 'united states',\n",
       " 'democratic party',\n",
       " 'african american president',\n",
       " 'great recession',\n",
       " 'economic stimuli',\n",
       " 'u.s senator',\n",
       " 'illinois',\n",
       " 'honolulu',\n",
       " 'illinois state senator',\n",
       " 'columbia university',\n",
       " 'community organizer',\n",
       " 'harvard law school',\n",
       " 'chicago',\n",
       " 'black person',\n",
       " 'civil rights attorney',\n",
       " 'president',\n",
       " 'harvard law review',\n",
       " 'constitutional law',\n",
       " 'university',\n",
       " 'elective politics',\n",
       " 'law school',\n",
       " '13th district',\n",
       " 'u.s senate',\n",
       " 'illinois senate',\n",
       " 'national attention',\n",
       " 'march senate primary win',\n",
       " 'global climate change',\n",
       " 'senate',\n",
       " 'cuba',\n",
       " 'campaign',\n",
       " 'invasion',\n",
       " 'interference',\n",
       " '2016 u.s elections',\n",
       " 'iran',\n",
       " 'russia',\n",
       " 'ukraine',\n",
       " 'justices',\n",
       " 'u.s relations',\n",
       " 'jcpoa nuclear deal',\n",
       " 'sanctions',\n",
       " 'close primary campaign',\n",
       " '  general election',\n",
       " 'republican nominee john mccain',\n",
       " 'hillary clinton',\n",
       " 'running mate',\n",
       " 'january',\n",
       " '2009 nobel peace prize laureate',\n",
       " 'lengthy debate',\n",
       " 'budget control',\n",
       " 'law',\n",
       " 'years',\n",
       " 'landmark bills',\n",
       " 'national debt limit',\n",
       " 'public health insurance option',\n",
       " 'office',\n",
       " 'aca',\n",
       " 'affordable care act',\n",
       " 'repeal act',\n",
       " 'u.s troop levels',\n",
       " 'foreign policy',\n",
       " 'nuclear weapons',\n",
       " 'afghanistan',\n",
       " 'gains',\n",
       " 'global warming',\n",
       " 'military operations',\n",
       " 'muammar gaddafi',\n",
       " 'iraq war',\n",
       " 'implementation',\n",
       " 'military involvement',\n",
       " 'process',\n",
       " 'discussions',\n",
       " 'military intervention',\n",
       " 'deaths',\n",
       " 'osama bin laden',\n",
       " 'u.s combat operations',\n",
       " '2011 withdrawal',\n",
       " '2015 paris agreement',\n",
       " 'iraq',\n",
       " 'libya',\n",
       " 'isil',\n",
       " 'un security council resolution',\n",
       " 'overthrow',\n",
       " 'second term',\n",
       " 'republican opponent mitt romney',\n",
       " 'election',\n",
       " 'term',\n",
       " 'briefs',\n",
       " 'lgbt americans',\n",
       " 'sex marriage bans',\n",
       " 'inclusion',\n",
       " 'supreme court',\n",
       " 'windsor',\n",
       " 'hodges',\n",
       " 'obergefell',\n",
       " 'gun control',\n",
       " 'sandy hook elementary school shooting',\n",
       " 'response',\n",
       " 'assault weapons',\n",
       " 'ban',\n",
       " 'wide ranging executive actions',\n",
       " 'support',\n",
       " 'republican led senate',\n",
       " 'partisan obstruction',\n",
       " 'mitch mcconnell',\n",
       " 'washington',\n",
       " 'obama term',\n",
       " 'historians',\n",
       " 'american presidents',\n",
       " 'presidency',\n",
       " 'upper tier',\n",
       " 'nomination',\n",
       " 'hearings']"
      ]
     },
     "execution_count": 146,
     "metadata": {},
     "output_type": "execute_result"
    }
   ],
   "source": [
    "obm_ls = []\n",
    "obm = graph.run('MATCH (n:Node {name: \"oh bah mə\"})--(m) RETURN DISTINCT m.name')\n",
    "for record in obm:\n",
    "    obm_ls.append(record[0])\n",
    "obm_ls"
   ]
  },
  {
   "cell_type": "code",
   "execution_count": 147,
   "id": "preliminary-nebraska",
   "metadata": {},
   "outputs": [],
   "source": [
    "bho_set = set(bho_ls)\n",
    "obm_set = set(obm_ls)\n",
    "if (bho_set & obm_set):\n",
    "    print('Number of overlapping elements: ', len(bho_set & obm_set))\n",
    "    print('Percent of overlapping elements: ', len(bho_set & obm_set)/len(bho_ls))\n",
    "    print(bho_set & obm_set)"
   ]
  },
  {
   "cell_type": "markdown",
   "id": "changed-technical",
   "metadata": {},
   "source": [
    "# Observation\n",
    "\n",
    "So we can see that 100% of the nodes connected to 'barack hussein obama ii' are in the connected node list of 'oh bah mə'.  This is a strong indicator that the former might be the same entity as the later.\n",
    "\n",
    "# Now let's connect to the graph and do some ML\n",
    "\n",
    "Here we are going to take advantage of the ability to both run Cypher queries in `py2neo` as well as to write the results to a Pandas DataFrame."
   ]
  },
  {
   "cell_type": "code",
   "execution_count": 4,
   "id": "civic-iraqi",
   "metadata": {},
   "outputs": [
    {
     "data": {
      "text/html": [
       "<div>\n",
       "<style scoped>\n",
       "    .dataframe tbody tr th:only-of-type {\n",
       "        vertical-align: middle;\n",
       "    }\n",
       "\n",
       "    .dataframe tbody tr th {\n",
       "        vertical-align: top;\n",
       "    }\n",
       "\n",
       "    .dataframe thead th {\n",
       "        text-align: right;\n",
       "    }\n",
       "</style>\n",
       "<table border=\"1\" class=\"dataframe\">\n",
       "  <thead>\n",
       "    <tr style=\"text-align: right;\">\n",
       "      <th></th>\n",
       "      <th>name</th>\n",
       "      <th>node_labels</th>\n",
       "      <th>pptu_person</th>\n",
       "      <th>pptu_place</th>\n",
       "      <th>pptu_thing</th>\n",
       "      <th>pptu_unknown</th>\n",
       "      <th>word_vec</th>\n",
       "      <th>n2v_all_nodes</th>\n",
       "      <th>n2v_pptu</th>\n",
       "      <th>n2v_all_undir</th>\n",
       "      <th>n2v_pptu_undir</th>\n",
       "      <th>pptu_len</th>\n",
       "    </tr>\n",
       "  </thead>\n",
       "  <tbody>\n",
       "    <tr>\n",
       "      <th>0</th>\n",
       "      <td>wires</td>\n",
       "      <td>[Thing]</td>\n",
       "      <td>0.0</td>\n",
       "      <td>0.0</td>\n",
       "      <td>1.0</td>\n",
       "      <td>0.0</td>\n",
       "      <td>[0.8980044078720564, 0.006128079628186178, -0....</td>\n",
       "      <td>[0.6094658374786377, 0.6189239621162415, 0.284...</td>\n",
       "      <td>[-0.08293610066175461, -0.26745232939720154, 0...</td>\n",
       "      <td>[0.0823800340294838, -0.352964848279953, 0.319...</td>\n",
       "      <td>[-0.04593001678586006, 0.8721498847007751, -0....</td>\n",
       "      <td>300</td>\n",
       "    </tr>\n",
       "    <tr>\n",
       "      <th>1</th>\n",
       "      <td>united states congress</td>\n",
       "      <td>[Thing, Organization]</td>\n",
       "      <td>1.0</td>\n",
       "      <td>0.0</td>\n",
       "      <td>1.0</td>\n",
       "      <td>0.0</td>\n",
       "      <td>[0.03312668204307556, 0.07782869786024094, 0.0...</td>\n",
       "      <td>[-0.9871416091918945, 0.373616099357605, 0.456...</td>\n",
       "      <td>[-0.11460854113101959, 0.5099354982376099, 0.3...</td>\n",
       "      <td>[0.5833602547645569, -0.6063153147697449, 0.43...</td>\n",
       "      <td>[0.6923357248306274, 0.06137365847826004, -0.3...</td>\n",
       "      <td>300</td>\n",
       "    </tr>\n",
       "    <tr>\n",
       "      <th>2</th>\n",
       "      <td>house</td>\n",
       "      <td>[Thing]</td>\n",
       "      <td>0.0</td>\n",
       "      <td>0.0</td>\n",
       "      <td>1.0</td>\n",
       "      <td>0.0</td>\n",
       "      <td>[0.04616522789001465, 0.3092450797557831, -0.0...</td>\n",
       "      <td>[-0.15712955594062805, -0.05888456106185913, -...</td>\n",
       "      <td>[-0.3770463764667511, -0.6772984862327576, -0....</td>\n",
       "      <td>[0.25968271493911743, 0.23130978643894196, 0.1...</td>\n",
       "      <td>[0.31659290194511414, 0.9325052499771118, -0.2...</td>\n",
       "      <td>300</td>\n",
       "    </tr>\n",
       "    <tr>\n",
       "      <th>3</th>\n",
       "      <td>representatives</td>\n",
       "      <td>[Thing]</td>\n",
       "      <td>0.0</td>\n",
       "      <td>0.0</td>\n",
       "      <td>1.0</td>\n",
       "      <td>0.0</td>\n",
       "      <td>[-0.014807065017521381, 0.2798156142234802, -0...</td>\n",
       "      <td>[-0.2792333960533142, -0.08163166791200638, 0....</td>\n",
       "      <td>[-0.9818018674850464, 0.13817954063415527, 0.6...</td>\n",
       "      <td>[0.08528435975313187, 0.5493034720420837, -0.0...</td>\n",
       "      <td>[0.24740058183670044, 0.6874911189079285, 0.60...</td>\n",
       "      <td>300</td>\n",
       "    </tr>\n",
       "    <tr>\n",
       "      <th>4</th>\n",
       "      <td>lower chamber</td>\n",
       "      <td>[]</td>\n",
       "      <td>0.0</td>\n",
       "      <td>0.0</td>\n",
       "      <td>0.0</td>\n",
       "      <td>1.0</td>\n",
       "      <td>[0.7092631070122124, 0.8281129557948719, -0.92...</td>\n",
       "      <td>[-0.48839181661605835, 0.32663366198539734, 0....</td>\n",
       "      <td>[-0.5014616847038269, -0.8213402628898621, 0.9...</td>\n",
       "      <td>[-0.18521380424499512, -0.6744221448898315, -0...</td>\n",
       "      <td>[0.42970168590545654, -0.9592905640602112, -0....</td>\n",
       "      <td>300</td>\n",
       "    </tr>\n",
       "  </tbody>\n",
       "</table>\n",
       "</div>"
      ],
      "text/plain": [
       "                     name            node_labels  pptu_person  pptu_place  \\\n",
       "0                   wires                [Thing]          0.0         0.0   \n",
       "1  united states congress  [Thing, Organization]          1.0         0.0   \n",
       "2                   house                [Thing]          0.0         0.0   \n",
       "3         representatives                [Thing]          0.0         0.0   \n",
       "4           lower chamber                     []          0.0         0.0   \n",
       "\n",
       "   pptu_thing  pptu_unknown  \\\n",
       "0         1.0           0.0   \n",
       "1         1.0           0.0   \n",
       "2         1.0           0.0   \n",
       "3         1.0           0.0   \n",
       "4         0.0           1.0   \n",
       "\n",
       "                                            word_vec  \\\n",
       "0  [0.8980044078720564, 0.006128079628186178, -0....   \n",
       "1  [0.03312668204307556, 0.07782869786024094, 0.0...   \n",
       "2  [0.04616522789001465, 0.3092450797557831, -0.0...   \n",
       "3  [-0.014807065017521381, 0.2798156142234802, -0...   \n",
       "4  [0.7092631070122124, 0.8281129557948719, -0.92...   \n",
       "\n",
       "                                       n2v_all_nodes  \\\n",
       "0  [0.6094658374786377, 0.6189239621162415, 0.284...   \n",
       "1  [-0.9871416091918945, 0.373616099357605, 0.456...   \n",
       "2  [-0.15712955594062805, -0.05888456106185913, -...   \n",
       "3  [-0.2792333960533142, -0.08163166791200638, 0....   \n",
       "4  [-0.48839181661605835, 0.32663366198539734, 0....   \n",
       "\n",
       "                                            n2v_pptu  \\\n",
       "0  [-0.08293610066175461, -0.26745232939720154, 0...   \n",
       "1  [-0.11460854113101959, 0.5099354982376099, 0.3...   \n",
       "2  [-0.3770463764667511, -0.6772984862327576, -0....   \n",
       "3  [-0.9818018674850464, 0.13817954063415527, 0.6...   \n",
       "4  [-0.5014616847038269, -0.8213402628898621, 0.9...   \n",
       "\n",
       "                                       n2v_all_undir  \\\n",
       "0  [0.0823800340294838, -0.352964848279953, 0.319...   \n",
       "1  [0.5833602547645569, -0.6063153147697449, 0.43...   \n",
       "2  [0.25968271493911743, 0.23130978643894196, 0.1...   \n",
       "3  [0.08528435975313187, 0.5493034720420837, -0.0...   \n",
       "4  [-0.18521380424499512, -0.6744221448898315, -0...   \n",
       "\n",
       "                                      n2v_pptu_undir  pptu_len  \n",
       "0  [-0.04593001678586006, 0.8721498847007751, -0....       300  \n",
       "1  [0.6923357248306274, 0.06137365847826004, -0.3...       300  \n",
       "2  [0.31659290194511414, 0.9325052499771118, -0.2...       300  \n",
       "3  [0.24740058183670044, 0.6874911189079285, 0.60...       300  \n",
       "4  [0.42970168590545654, -0.9592905640602112, -0....       300  "
      ]
     },
     "execution_count": 4,
     "metadata": {},
     "output_type": "execute_result"
    }
   ],
   "source": [
    "df = graph.run('MATCH (n:Node) RETURN n.name, n.node_labels, n.pptu_person, n.pptu_place, n.pptu_thing, n.pptu_unknown, n.word_vec, n.n2v_all_nodes, n.n2v_pptu, n.n2v_all_undir, n.n2v_pptu_undir').to_data_frame()\n",
    "df.columns = ['name', 'node_labels', 'pptu_person', 'pptu_place', 'pptu_thing', 'pptu_unknown', 'word_vec', 'n2v_all_nodes', 'n2v_pptu', 'n2v_all_undir', 'n2v_pptu_undir']\n",
    "df['pptu_len'] = df['n2v_pptu'].str.len()\n",
    "df2 = df.fillna(0)\n",
    "df2.head()"
   ]
  },
  {
   "cell_type": "markdown",
   "id": "elect-antarctica",
   "metadata": {},
   "source": [
    "# Dealing with some missing vectors\n",
    "\n",
    "Despite our best efforts, we still have some places where `node2vec` did not create embeddings.  There are only a couple of these cases, but it will prevent us from running our models below.  Since we know that `node2vec` was asked to output a 300-dimension embedding, we would expect the value of `pptu_len` to be 300, and will filter out rows where that is not the case."
   ]
  },
  {
   "cell_type": "code",
   "execution_count": 5,
   "id": "absent-tribe",
   "metadata": {},
   "outputs": [
    {
     "data": {
      "text/plain": [
       "(616, 12)"
      ]
     },
     "execution_count": 5,
     "metadata": {},
     "output_type": "execute_result"
    }
   ],
   "source": [
    "clean_df = df2[df2['pptu_len'] == 300.]\n",
    "clean_df.shape"
   ]
  },
  {
   "cell_type": "markdown",
   "id": "derived-panama",
   "metadata": {},
   "source": [
    "# Create a variety of `X` variables for the model (in the style of `scikit-learn`)..."
   ]
  },
  {
   "cell_type": "code",
   "execution_count": 6,
   "id": "continuous-tyler",
   "metadata": {},
   "outputs": [],
   "source": [
    "def create_X(clean_df):\n",
    "\n",
    "    word_vec_ls = clean_df['word_vec'].to_list()\n",
    "    word_vec_arr = np.array([np.array(x) for x in word_vec_ls], dtype=object)\n",
    "\n",
    "    n2v_an_ls = clean_df['n2v_all_nodes'].to_list()\n",
    "    n2v_arr = np.array([np.array(x) for x in n2v_an_ls], dtype=object)\n",
    "\n",
    "    n2v_u_ls = clean_df['n2v_all_undir'].to_list()\n",
    "    n2v_u_arr = np.array([np.array(x) for x in n2v_u_ls], dtype=object)\n",
    "\n",
    "    n2v_p_ls = clean_df['n2v_pptu'].to_list()\n",
    "    n2v_p_arr = np.array([np.array(x) for x in n2v_p_ls], dtype=object)\n",
    "\n",
    "    n2v_p_u_ls = clean_df['n2v_pptu_undir'].to_list()\n",
    "    n2v_p_u_arr = np.array([np.array(x) for x in n2v_p_u_ls], dtype=object)\n",
    "\n",
    "    print(word_vec_arr.shape, n2v_arr.shape, n2v_u_arr.shape, n2v_p_arr.shape, n2v_p_u_arr.shape)\n",
    "    \n",
    "    return word_vec_arr, n2v_arr, n2v_u_arr, n2v_p_arr, n2v_p_u_arr"
   ]
  },
  {
   "cell_type": "code",
   "execution_count": 7,
   "id": "decent-silicon",
   "metadata": {},
   "outputs": [
    {
     "name": "stdout",
     "output_type": "stream",
     "text": [
      "(616, 300) (616, 300) (616, 300) (616, 300) (616, 300)\n"
     ]
    }
   ],
   "source": [
    "X_word_vec, X_all_nodes, X_all_nodes_u, X_pptu, X_pptu_u = create_X(clean_df)"
   ]
  },
  {
   "cell_type": "markdown",
   "id": "clean-lease",
   "metadata": {},
   "source": [
    "# Out of convenience...\n",
    "\n",
    "...we are creating this function that will run a support vector machine classifier to see how well the different embeddings do at predicting different labels.  We do note that this is a multi-label problem (Person, Place, Thing, Unknown), but for simplicity we are going to evaluate the prediction against single labels within that dataset.  The interested reader is encouraged to try more sophisticated models that can handle the multi-label problem better.\n",
    "\n",
    "We also show below that each of the classes is significantly imbalanced.  The interested participant is encourage to experiment with balancing the classes to see how this impacts the overall accuracy."
   ]
  },
  {
   "cell_type": "code",
   "execution_count": 19,
   "id": "piano-split",
   "metadata": {},
   "outputs": [],
   "source": [
    "def modeler(df, column_name, X, k_folds=5, model='linear', show_matrix=True):\n",
    "    \n",
    "    y = df[column_name].fillna(0.0).to_numpy()\n",
    "    acc_scores = []\n",
    "    \n",
    "    pos = np.count_nonzero(y == 1.0)\n",
    "    neg = y.shape[0] - pos\n",
    "    print('Number of positive: ', pos, ' Number of negative: ', neg)\n",
    "    \n",
    "    for i in range(0, k_folds):\n",
    "        \n",
    "        X_train, X_test, y_train, y_test = train_test_split(X_word_vec, y, test_size=0.25)\n",
    "        clf = svm.SVC(kernel='linear')\n",
    "        clf.fit(X_train, y_train)\n",
    "        pred = clf.predict(X_test)\n",
    "\n",
    "        acc = accuracy_score(pred, y_test)\n",
    "        acc_scores.append(acc)        \n",
    "        \n",
    "    print('Accuracy scores: ', acc_scores)\n",
    "    print('Mean accuracy: ', np.mean(acc_scores))\n",
    "    \n",
    "    if show_matrix:\n",
    "        matrix = plot_confusion_matrix(clf, X_test, y_test, cmap=plt.cm.Blues, normalize='true')\n",
    "        plt.show(matrix)\n",
    "        plt.show()\n",
    "        \n",
    "    return"
   ]
  },
  {
   "cell_type": "code",
   "execution_count": 20,
   "id": "periodic-compound",
   "metadata": {},
   "outputs": [
    {
     "name": "stdout",
     "output_type": "stream",
     "text": [
      "Number of positive:  116  Number of negative:  500\n",
      "Accuracy scores:  [0.8246753246753247, 0.8636363636363636, 0.8441558441558441, 0.8571428571428571, 0.8441558441558441]\n",
      "Mean accuracy:  0.8467532467532468\n"
     ]
    },
    {
     "data": {
      "image/png": "[encoded data removed]",
      "text/plain": [
       "<Figure size 432x288 with 2 Axes>"
      ]
     },
     "metadata": {
      "needs_background": "light"
     },
     "output_type": "display_data"
    }
   ],
   "source": [
    "modeler(df, 'pptu_person', X_word_vec)"
   ]
  },
  {
   "cell_type": "code",
   "execution_count": 21,
   "id": "informed-transportation",
   "metadata": {},
   "outputs": [
    {
     "name": "stdout",
     "output_type": "stream",
     "text": [
      "Number of positive:  116  Number of negative:  500\n",
      "Accuracy scores:  [0.7987012987012987, 0.7987012987012987, 0.8441558441558441, 0.8441558441558441, 0.8311688311688312]\n",
      "Mean accuracy:  0.8233766233766234\n"
     ]
    },
    {
     "data": {
      "image/png": "[encoded data removed]",
      "text/plain": [
       "<Figure size 432x288 with 2 Axes>"
      ]
     },
     "metadata": {
      "needs_background": "light"
     },
     "output_type": "display_data"
    }
   ],
   "source": [
    "modeler(df, 'pptu_person', X_pptu)"
   ]
  },
  {
   "cell_type": "code",
   "execution_count": 22,
   "id": "instant-reaction",
   "metadata": {},
   "outputs": [
    {
     "name": "stdout",
     "output_type": "stream",
     "text": [
      "Number of positive:  78  Number of negative:  538\n",
      "Accuracy scores:  [0.9090909090909091, 0.8896103896103896, 0.948051948051948, 0.9025974025974026, 0.8961038961038961]\n",
      "Mean accuracy:  0.909090909090909\n"
     ]
    },
    {
     "data": {
      "image/png": "[encoded data removed]",
      "text/plain": [
       "<Figure size 432x288 with 2 Axes>"
      ]
     },
     "metadata": {
      "needs_background": "light"
     },
     "output_type": "display_data"
    }
   ],
   "source": [
    "modeler(df, 'pptu_place', X_word_vec)"
   ]
  },
  {
   "cell_type": "code",
   "execution_count": 23,
   "id": "optical-moses",
   "metadata": {},
   "outputs": [
    {
     "name": "stdout",
     "output_type": "stream",
     "text": [
      "Number of positive:  78  Number of negative:  538\n",
      "Accuracy scores:  [0.9155844155844156, 0.9285714285714286, 0.8831168831168831, 0.8961038961038961, 0.9025974025974026]\n",
      "Mean accuracy:  0.9051948051948052\n"
     ]
    },
    {
     "data": {
      "image/png": "[encoded data removed]",
      "text/plain": [
       "<Figure size 432x288 with 2 Axes>"
      ]
     },
     "metadata": {
      "needs_background": "light"
     },
     "output_type": "display_data"
    }
   ],
   "source": [
    "modeler(df, 'pptu_place', X_all_nodes)"
   ]
  },
  {
   "cell_type": "code",
   "execution_count": 24,
   "id": "popular-block",
   "metadata": {},
   "outputs": [
    {
     "name": "stdout",
     "output_type": "stream",
     "text": [
      "Number of positive:  518  Number of negative:  98\n",
      "Accuracy scores:  [0.9025974025974026, 0.9025974025974026, 0.8701298701298701, 0.8896103896103896, 0.8181818181818182]\n",
      "Mean accuracy:  0.8766233766233766\n"
     ]
    },
    {
     "data": {
      "image/png": "[encoded data removed]",
      "text/plain": [
       "<Figure size 432x288 with 2 Axes>"
      ]
     },
     "metadata": {
      "needs_background": "light"
     },
     "output_type": "display_data"
    }
   ],
   "source": [
    "modeler(df, 'pptu_thing', X_word_vec)"
   ]
  },
  {
   "cell_type": "code",
   "execution_count": 25,
   "id": "potential-forest",
   "metadata": {},
   "outputs": [
    {
     "name": "stdout",
     "output_type": "stream",
     "text": [
      "Number of positive:  518  Number of negative:  98\n",
      "Accuracy scores:  [0.8571428571428571, 0.9025974025974026, 0.8571428571428571, 0.9155844155844156, 0.8831168831168831]\n",
      "Mean accuracy:  0.8831168831168832\n"
     ]
    },
    {
     "data": {
      "image/png": "[encoded data removed]",
      "text/plain": [
       "<Figure size 432x288 with 2 Axes>"
      ]
     },
     "metadata": {
      "needs_background": "light"
     },
     "output_type": "display_data"
    }
   ],
   "source": [
    "modeler(df, 'pptu_thing', X_pptu_u)"
   ]
  },
  {
   "cell_type": "markdown",
   "id": "obvious-establishment",
   "metadata": {},
   "source": [
    "# Next steps\n",
    "\n",
    "There are so many things that you can try from here!  Some of the things I might consider would be:\n",
    "\n",
    "- Take time to tune the hyperparameters.  This can be done for:\n",
    "  - The spacy word embeddings\n",
    "  - The graph embeddings\n",
    "  - The ML model\n",
    "- Trying more sophisticated embedding approaches, such as GraphSAGE, that take into account both the node labels _and_ the edge labels.\n",
    "- Explore different embeddings.  Here we used the spacy word vectors to create embeddings for the nodes, but there are many, many more ways to create vectors that could be used for training the ML models!  Get creative!\n",
    "- Work the class imbalance problem.\n",
    "- This graph is quite small in reality.  Work on growing the graph by adding more layers to it via either Wikipedia or the Google Knowledge Graph.  As the graph gets larger, we might expect that the graph embeddings approaches will start to really shine beyond the word embeddings.\n",
    "\n"
   ]
  },
  {
   "cell_type": "code",
   "execution_count": null,
   "id": "wound-ranking",
   "metadata": {},
   "outputs": [],
   "source": []
  }
 ],
 "metadata": {
  "kernelspec": {
   "display_name": "Python 3",
   "language": "python",
   "name": "python3"
  },
  "language_info": {
   "codemirror_mode": {
    "name": "ipython",
    "version": 3
   },
   "file_extension": ".py",
   "mimetype": "text/x-python",
   "name": "python",
   "nbconvert_exporter": "python",
   "pygments_lexer": "ipython3",
   "version": "3.8.8"
  }
 },
 "nbformat": 4,
 "nbformat_minor": 5
}
